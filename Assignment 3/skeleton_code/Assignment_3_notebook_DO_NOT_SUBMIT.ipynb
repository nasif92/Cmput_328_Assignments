{
  "cells": [
    {
      "cell_type": "markdown",
      "metadata": {
        "colab_type": "text",
        "id": "KDVDq4R4cQqN"
      },
      "source": [
        "NOTE: DO NOT SUBMIT THIS NOTEBOOK FOR YOUR SUBMISSION!!!\n",
        "PLEASE SUBMIT \"A3_submission.py\" after you have finished debugging.\n",
        "\n",
        "Import and setup some auxiliary functions"
      ]
    },
    {
      "cell_type": "code",
      "execution_count": null,
      "metadata": {
        "colab": {},
        "colab_type": "code",
        "id": "qHPwL1QYcQqU"
      },
      "outputs": [],
      "source": [
        "import torch\n",
        "from torchvision import transforms, datasets\n",
        "import numpy as np\n",
        "import timeit\n",
        "from collections import OrderedDict\n",
        "from pprint import pformat\n",
        "from tqdm import tqdm\n",
        "\n",
        "torch.multiprocessing.set_sharing_strategy('file_system')\n",
        "\n",
        "def compute_score(acc, min_thres, max_thres):\n",
        "    if acc <= min_thres:\n",
        "        base_score = 0.0\n",
        "    elif acc >= max_thres:\n",
        "        base_score = 100.0\n",
        "    else:\n",
        "        base_score = float(acc - min_thres) / (max_thres - min_thres) \\\n",
        "                     * 100\n",
        "    return base_score\n",
        "\n",
        "\n",
        "def run(algorithm, dataset_name, filename):\n",
        "    start = timeit.default_timer()\n",
        "    predicted_test_labels, gt_labels = algorithm(dataset_name)\n",
        "    if predicted_test_labels is None or gt_labels is None:\n",
        "      return (0, 0, 0)\n",
        "    stop = timeit.default_timer()\n",
        "    run_time = stop - start\n",
        "    \n",
        "    np.savetxt(filename, np.asarray(predicted_test_labels))\n",
        "\n",
        "    correct = 0\n",
        "    total = 0\n",
        "    for label, prediction in zip(gt_labels, predicted_test_labels):\n",
        "      total += label.size(0)\n",
        "      correct += (prediction.cpu().numpy() == label.cpu().numpy()).sum().item()   # assuming your model runs on GPU\n",
        "      \n",
        "    accuracy = float(correct) / total\n",
        "    \n",
        "    print('Accuracy of the network on the 10000 test images: %d %%' % (100 * correct / total))\n",
        "    return (correct, accuracy, run_time)"
      ]
    },
    {
      "cell_type": "markdown",
      "metadata": {
        "colab_type": "text",
        "id": "c3VfLcA4cQqx"
      },
      "source": [
        "TODO: Implement Logistic Regression here"
      ]
    },
    {
      "cell_type": "code",
      "execution_count": null,
      "metadata": {
        "colab": {},
        "colab_type": "code",
        "id": "17Mjmw05cQq0"
      },
      "outputs": [],
      "source": [
        "def logistic_regression(dataset_name):\n",
        "  \n",
        "  \n",
        "    device = torch.device(\"cuda\" if torch.cuda.is_available() else \"cpu\")\n",
        "\n",
        "    # TODO: implement logistic regression hyper-parameter tuning here\n",
        "    return None, None"
      ]
    },
    {
      "cell_type": "markdown",
      "metadata": {},
      "source": [
        "TODO: Implement Hyper-parameter Tuning here"
      ]
    },
    {
      "cell_type": "code",
      "execution_count": null,
      "metadata": {},
      "outputs": [],
      "source": [
        "def tune_hyper_parameter():\n",
        "    # TODO: implement logistic regression hyper-parameter tuning here\n",
        "\n",
        "    return None, None, None"
      ]
    },
    {
      "cell_type": "markdown",
      "metadata": {
        "colab_type": "text",
        "id": "GNNgL7C7cQq-"
      },
      "source": [
        "Main loop. Run time and total score will be shown below."
      ]
    },
    {
      "cell_type": "code",
      "execution_count": 3,
      "metadata": {
        "colab": {
          "base_uri": "https://localhost:8080/",
          "height": 254
        },
        "colab_type": "code",
        "id": "Qf9iL8S_cQrB",
        "outputId": "29c1f4ea-4da3-4475-80bc-7c741574ca8e"
      },
      "outputs": [
        {
          "name": "stdout",
          "output_type": "stream",
          "text": [
            "\n",
            "Result:\n",
            " OrderedDict([   (   'MNIST',\n",
            "                    OrderedDict([   ('correct_predict', 0),\n",
            "                                    ('accuracy', 0),\n",
            "                                    ('score', 0.0),\n",
            "                                    ('run_time', 0)])),\n",
            "                (   'CIFAR10',\n",
            "                    OrderedDict([   ('correct_predict', 0),\n",
            "                                    ('accuracy', 0),\n",
            "                                    ('score', 0.0),\n",
            "                                    ('run_time', 0)])),\n",
            "                ('total_score', 0.0)])\n"
          ]
        }
      ],
      "source": [
        "def run_on_dataset(dataset_name, filename):\n",
        "    if dataset_name == \"MNIST\":\n",
        "        min_thres = 0.82\n",
        "        max_thres = 0.92\n",
        "\n",
        "    elif dataset_name == \"CIFAR10\":\n",
        "        min_thres = 0.28\n",
        "        max_thres = 0.38\n",
        "\n",
        "    correct_predict, accuracy, run_time = run(logistic_regression, dataset_name, filename)\n",
        "\n",
        "    score = compute_score(accuracy, min_thres, max_thres)\n",
        "    result = OrderedDict(correct_predict=correct_predict,\n",
        "                         accuracy=accuracy, score=score,\n",
        "                         run_time=run_time)\n",
        "    return result, score\n",
        "\n",
        "\n",
        "def main():\n",
        "    filenames = { \"MNIST\": \"predictions_mnist_YourName_IDNumber.txt\", \"CIFAR10\": \"predictions_cifar10_YourName_IDNumber.txt\"}\n",
        "    result_all = OrderedDict()\n",
        "    score_weights = [0.5, 0.5]\n",
        "    scores = []\n",
        "    for dataset_name in [\"MNIST\",\"CIFAR10\"]:\n",
        "        result_all[dataset_name], this_score = run_on_dataset(dataset_name, filenames[dataset_name])\n",
        "        scores.append(this_score)\n",
        "    total_score = [score * weight for score, weight in zip(scores, score_weights)]\n",
        "    total_score = np.asarray(total_score).sum().item()\n",
        "    result_all['total_score'] = total_score\n",
        "    with open('result.txt', 'w') as f:\n",
        "        f.writelines(pformat(result_all, indent=4))\n",
        "    print(\"\\nResult:\\n\", pformat(result_all, indent=4))\n",
        "\n",
        "\n",
        "main()"
      ]
    }
  ],
  "metadata": {
    "accelerator": "GPU",
    "colab": {
      "collapsed_sections": [],
      "name": "Assignment-3_notebook.ipynb",
      "provenance": []
    },
    "kernelspec": {
      "display_name": "Python 3",
      "name": "python3"
    },
    "language_info": {
      "codemirror_mode": {
        "name": "ipython",
        "version": 3
      },
      "file_extension": ".py",
      "mimetype": "text/x-python",
      "name": "python",
      "nbconvert_exporter": "python",
      "pygments_lexer": "ipython3",
      "version": "3.6.4"
    }
  },
  "nbformat": 4,
  "nbformat_minor": 0
}
